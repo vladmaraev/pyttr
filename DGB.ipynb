{
 "cells": [
  {
   "cell_type": "code",
   "execution_count": 99,
   "metadata": {
    "collapsed": true
   },
   "outputs": [],
   "source": [
    "from ttrtypes import Type,BType,PType,Pred,Possibility,RecType,Fun,ListType,\\\n",
    "                     TTRStringType,KPlusStringType,LazyObj,ti_apply,SingletonType,FunType,JoinType\n",
    "from records import Rec\n",
    "from utils import show"
   ]
  },
  {
   "cell_type": "markdown",
   "metadata": {
    "collapsed": true
   },
   "source": [
    "# Very basic update"
   ]
  },
  {
   "cell_type": "code",
   "execution_count": 100,
   "metadata": {},
   "outputs": [],
   "source": [
    "Ind = BType('Ind')\n",
    "greet = Pred('Greet',[Ind,Ind])\n",
    "IllocProp = Type()"
   ]
  },
  {
   "cell_type": "code",
   "execution_count": 189,
   "metadata": {
    "collapsed": true
   },
   "outputs": [],
   "source": [
    "PreCond = RecType({'moves': SingletonType(ListType(IllocProp), [])})"
   ]
  },
  {
   "cell_type": "code",
   "execution_count": 181,
   "metadata": {},
   "outputs": [
    {
     "data": {
      "text/plain": [
       "'lambda r:{moves : [T4]_[]} . {moves : [T4]_[Greet([r, ., spkr], [r, ., addr])]}'"
      ]
     },
     "execution_count": 181,
     "metadata": {},
     "output_type": "execute_result"
    }
   ],
   "source": [
    "greeting = Fun('r', \n",
    "               PreCond, \n",
    "               RecType({'moves': SingletonType(ListType(IllocProp),\n",
    "                                               ListType(PType(greet,[LazyObj(['r','.','spkr']),\n",
    "                                                                     LazyObj(['r','.','addr'])])))}))\n",
    "show(greeting)"
   ]
  },
  {
   "cell_type": "code",
   "execution_count": 191,
   "metadata": {},
   "outputs": [
    {
     "name": "stdout",
     "output_type": "stream",
     "text": [
      "initial IS     : {spkr = A, addr = B, moves = []}\n",
      "DGB type for it: {spkr : Ind, addr : Ind, moves : [T4]_[]}\n"
     ]
    }
   ],
   "source": [
    "Ind.judge('A')\n",
    "Ind.judge('B')\n",
    "\n",
    "is0 = Rec({'spkr':'A', 'addr':'B', 'moves':[]})\n",
    "DGBType0 = RecType({'spkr':Ind, 'addr':Ind, 'moves':SingletonType(ListType(IllocProp), [])})\n",
    "print(\"initial IS     :\", show(is0))\n",
    "print(\"DGB type for it:\", show(DGBType0))"
   ]
  },
  {
   "cell_type": "code",
   "execution_count": 196,
   "metadata": {},
   "outputs": [
    {
     "data": {
      "text/plain": [
       "'{moves : [T4]_[Greet(A, B)]}'"
      ]
     },
     "execution_count": 196,
     "metadata": {},
     "output_type": "execute_result"
    }
   ],
   "source": [
    "show(greeting.appc(is0))"
   ]
  },
  {
   "cell_type": "code",
   "execution_count": 202,
   "metadata": {},
   "outputs": [
    {
     "data": {
      "text/plain": [
       "'{moves : [T4]_[], spkr : Ind, addr : Ind}'"
      ]
     },
     "execution_count": 202,
     "metadata": {},
     "output_type": "execute_result"
    }
   ],
   "source": [
    "DGBType1 = DGBType0.amerge(f.appc(is0))\n",
    "show(DGBType1)"
   ]
  },
  {
   "cell_type": "code",
   "execution_count": null,
   "metadata": {
    "collapsed": true
   },
   "outputs": [],
   "source": []
  }
 ],
 "metadata": {
  "kernelspec": {
   "display_name": "Python 3",
   "language": "python",
   "name": "python3"
  },
  "language_info": {
   "codemirror_mode": {
    "name": "ipython",
    "version": 3
   },
   "file_extension": ".py",
   "mimetype": "text/x-python",
   "name": "python",
   "nbconvert_exporter": "python",
   "pygments_lexer": "ipython3",
   "version": "3.6.2"
  }
 },
 "nbformat": 4,
 "nbformat_minor": 2
}
