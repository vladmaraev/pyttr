{
 "cells": [
  {
   "cell_type": "code",
   "execution_count": 1,
   "metadata": {
    "collapsed": true
   },
   "outputs": [],
   "source": [
    "from ttrtypes import Type,BType,PType,Pred,Possibility,RecType,Fun,ListType,\\\n",
    "                     TTRStringType,KPlusStringType,LazyObj\n",
    "from records import Rec\n",
    "from utils import show"
   ]
  },
  {
   "cell_type": "code",
   "execution_count": 2,
   "metadata": {},
   "outputs": [
    {
     "name": "stdout",
     "output_type": "stream",
     "text": [
      "Is is1 of a type DGBType? -- True\n",
      "Is is2 of a type DGBType? -- True\n"
     ]
    }
   ],
   "source": [
    "\"\"\"very basic DGBType and two informational states\n",
    "\"\"\"\n",
    "IllocProp = Type()\n",
    "IllocProp.judge('e-greet')\n",
    "IllocProp.judge('e-ack')\n",
    "\n",
    "Other = BType('Other')\n",
    "Other.judge('other')\n",
    "greet = Pred('greet', [])\n",
    "Greet = PType(greet,[])\n",
    "Greet.judge('e-greet')\n",
    "ack = Pred('ack', [])\n",
    "Ack = PType(ack,[])\n",
    "Ack.judge('e-ack')\n",
    "\n",
    "\n",
    "DGBType = RecType({\"Moves\":ListType(IllocProp), \"Other\":Other})\n",
    "\n",
    "is1 = Rec({\"Moves\":[\"e-greet\"], \"Other\":\"other\"})\n",
    "is2 = Rec({\"Moves\":[\"e-ack\"], \"Other\":\"other\"})\n",
    "\n",
    "print(\"Is is1 of a type DGBType? --\", DGBType.query(is1))\n",
    "print(\"Is is2 of a type DGBType? --\", DGBType.query(is2))"
   ]
  },
  {
   "cell_type": "code",
   "execution_count": 3,
   "metadata": {},
   "outputs": [
    {
     "name": "stdout",
     "output_type": "stream",
     "text": [
      "Update rule:  lambda v:{Moves : [greet()]} . {Moves : [cgreet()]}\n",
      "Is u.r. applicable to is1? -- True\n",
      "Is u.r. applicable to is2? -- False\n"
     ]
    }
   ],
   "source": [
    "\"\"\"Update Rule: when there is a greeting move, countergreet\n",
    "\"\"\"\n",
    "cgreet = Pred('cgreet', [])\n",
    "CGreet = PType(cgreet,[])\n",
    "IllocProp.judge('e-cgreet')\n",
    "CGreet.judge('e-cgreet')\n",
    "\n",
    "## update rule Fun('v', PreCond, Effects)\n",
    "update_rule = (Fun('v', RecType({\"Moves\":ListType(Greet)}), RecType({\"Moves\":ListType(CGreet)})))\n",
    "\n",
    "print(\"Update rule: \", show(update_rule))\n",
    "\n",
    "\n",
    "print(\"Is u.r. applicable to is1? --\", update_rule.validate_arg(is1))\n",
    "print(\"Is u.r. applicable to is2? --\", update_rule.validate_arg(is2))"
   ]
  },
  {
   "cell_type": "code",
   "execution_count": 4,
   "metadata": {},
   "outputs": [
    {
     "data": {
      "text/plain": [
       "'{Moves : [cgreet()]}'"
      ]
     },
     "execution_count": 4,
     "metadata": {},
     "output_type": "execute_result"
    }
   ],
   "source": [
    "\"\"\"Effect of applying u.r. to is1\n",
    "\"\"\"\n",
    "show(update_rule.appc(is1))"
   ]
  },
  {
   "cell_type": "code",
   "execution_count": 5,
   "metadata": {},
   "outputs": [
    {
     "data": {
      "text/plain": [
       "'None'"
      ]
     },
     "execution_count": 5,
     "metadata": {},
     "output_type": "execute_result"
    }
   ],
   "source": [
    "\"\"\"Effect of applying u.r. to is2\n",
    "\"\"\"\n",
    "show(update_rule.appc(is2))"
   ]
  },
  {
   "cell_type": "code",
   "execution_count": 6,
   "metadata": {},
   "outputs": [
    {
     "name": "stdout",
     "output_type": "stream",
     "text": [
      "IS before the update:  {Moves = [e-greet], Other = other}\n",
      "Is u.r. applicable to is1? -- True\n",
      "IS before the update:  {Moves = [e-cgreet, e-greet], Other = other}\n"
     ]
    }
   ],
   "source": [
    "\"\"\"Well, how should we change the is accordingly?\n",
    "   should we try record instead?\n",
    "\"\"\"\n",
    "print(\"IS before the update: \", show(is1))\n",
    "update_rule_rec = (Fun('v', RecType({\"Moves\":ListType(Greet)}), Rec({\"Moves\":[\"e-cgreet\"]})))\n",
    "print(\"Is u.r. applicable to is1? --\", update_rule_rec.validate_arg(is1))\n",
    "##print(\"Is u.r. applicable to is2? --\", update_rule_rec.validate_arg(is2))\n",
    "\n",
    "effect = update_rule_rec.appc(is1)\n",
    "is1_ = is1\n",
    "\n",
    "# this is too explicit\n",
    "if update_rule_rec.validate_arg(is1):\n",
    "    is1_.Moves = effect.Moves + is1.Moves\n",
    "\n",
    "print(\"IS before the update: \", show(is1_))"
   ]
  },
  {
   "cell_type": "code",
   "execution_count": null,
   "metadata": {},
   "outputs": [],
   "source": []
  },
  {
   "cell_type": "code",
   "execution_count": null,
   "metadata": {
    "collapsed": true
   },
   "outputs": [],
   "source": []
  }
 ],
 "metadata": {
  "kernelspec": {
   "display_name": "Python 3",
   "language": "python",
   "name": "python3"
  },
  "language_info": {
   "codemirror_mode": {
    "name": "ipython",
    "version": 3
   },
   "file_extension": ".py",
   "mimetype": "text/x-python",
   "name": "python",
   "nbconvert_exporter": "python",
   "pygments_lexer": "ipython3",
   "version": "3.6.2"
  }
 },
 "nbformat": 4,
 "nbformat_minor": 2
}
