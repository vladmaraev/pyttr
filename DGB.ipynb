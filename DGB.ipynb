{
 "cells": [
  {
   "cell_type": "code",
   "execution_count": 1,
   "metadata": {
    "collapsed": false
   },
   "outputs": [],
   "source": [
    "from ttrtypes import Type,BType,PType,Pred,Possibility,RecType,Fun,ListType,\\\n",
    "                     TTRStringType,KPlusStringType,LazyObj,ti_apply,SingletonType,FunType,JoinType,RecTy,Ty,Re\n",
    "from records import Rec\n",
    "from utils import show, substitute\n",
    "\n",
    "class SingletonType(SingletonType):\n",
    "    def __init__(self,T,a):\n",
    "        self.comps = Rec({'base_type':T, 'obj':a})\n",
    "        self.witness_cache = []\n",
    "        self.supertype_cache = []\n",
    "        self.witness_conditions = [lambda x: show(x) == show(a) and T.query(x), #x == a changed to show(x) == show(a)\n",
    "                                   lambda x: isinstance(a,LazyObj)\\\n",
    "                                             and show(x) == show(a.eval()) and T.query(x)]\n",
    "    def subst(self,v,a):\n",
    "        if self == v:\n",
    "            return a\n",
    "        else:  \n",
    "            new_base_type= substitute(self.comps.base_type,v,a)  #extracted calls to substitute\n",
    "            new_obj = substitute(self.comps.obj,v,a)\n",
    "            return SingletonType(new_base_type,new_obj)\n",
    "        \n",
    "#class RecType(RecType):\n",
    "#    def subst(self,v,a):\n",
    "#        res = RecType()\n",
    "#        for l in self.comps.__dict__.keys():\n",
    "#            if self.comps.__getattribute__(l) == v:\n",
    "#                res.addfield(l,a)\n",
    "#            elif isinstance(self.comps.__getattribute__(l),str):\n",
    "#                res.addfield(l,self.comps.__getattribute__(l))\n",
    "#            else: \n",
    "#                new_value = substitute(self.comps.__getattribute__(l),v,a) #extracted call to substitute\n",
    "#                res.addfield(l,new_value)\n",
    "#        #print(show(res))\n",
    "#        return res\n",
    "    \n",
    "#class Fun(Fun):\n",
    "#    def subst(self,v,a):\n",
    "#        if self.var == v:\n",
    "#            return self  # v is bound and not replaced\n",
    "#        else: \n",
    "#            new_domain = substitute(self.domain_type,v,a) #extracted calls to substitute\n",
    "#            new_body = substitute(self.body,v,a)\n",
    "#            return Fun(self.var,new_domain,new_body)\n",
    "#\n",
    "        \n",
    "def GeneralizedJoinType(Ts):\n",
    "    if len(Ts)==0:\n",
    "        return None\n",
    "    elif len(Ts)==1:\n",
    "        return Ts[0]\n",
    "    else:\n",
    "        return JoinType(Ts[0],GeneralizedJoinType(Ts[1:]))\n",
    "        "
   ]
  },
  {
   "cell_type": "code",
   "execution_count": null,
   "metadata": {
    "collapsed": true
   },
   "outputs": [],
   "source": []
  },
  {
   "cell_type": "markdown",
   "metadata": {
    "collapsed": true
   },
   "source": [
    "# Very basic update"
   ]
  },
  {
   "cell_type": "markdown",
   "metadata": {},
   "source": [
    "Robin's revised version of `IllocProp`."
   ]
  },
  {
   "cell_type": "code",
   "execution_count": 74,
   "metadata": {
    "collapsed": false
   },
   "outputs": [
    {
     "name": "stdout",
     "output_type": "stream",
     "text": [
      "True\n"
     ]
    }
   ],
   "source": [
    "Ind = BType('Ind')\n",
    "Ind.judge('A')\n",
    "Ind.judge('B')\n",
    "greet = Pred('greet',[Ind,Ind])\n",
    "countergreet = Pred('countergreet',[Ind,Ind])\n",
    "illocrels = [greet,countergreet]\n",
    "\n",
    "#IllocProp = GeneralizedJoinType([RecType({'x':Ind,'y':Ind,\n",
    "#                    'sit-type':(Fun('v1',Ind,Fun('v2',Ind,SingletonType(Ty,\n",
    "#                                                                      PType(r,['v1','v2'])))),\n",
    "#                               ['x','y'])}) for r in illocrels])\n",
    "\n",
    "IllocProp = JoinType(RecType({'x':Ind,'y':Ind,\n",
    "                   'sit_type':(Fun('v1',Ind,Fun('v2',Ind,SingletonType(Ty,\n",
    "                                                                     PType(greet,['v1','v2'])))),\n",
    "                              ['x','y'])}),\n",
    "                     RecType({'x':Ind,'y':Ind,\n",
    "                   'sit_type':(Fun('v1',Ind,Fun('v2',Ind,SingletonType(Ty,\n",
    "                                                                     PType(countergreet,['v1','v2'])))),\n",
    "                              ['x','y'])}))\n",
    "\n",
    "#IllocProp = RecType({'x':Ind,'y':Ind,\n",
    "#                   'sit_type':(Fun('v1',Ind,Fun('v2',Ind,SingletonType(Ty,\n",
    "#                                                                     PType(greet,['v1','v2'])))),\n",
    "#                              ['x','y'])})\n",
    "\n",
    "greetAB = PType(greet,['A','B'])\n",
    "\n",
    "M = Possibility('M')\n",
    "greetAB.in_poss(M).judge('e')\n",
    "\n",
    "illocPropRec = Rec({'x':'A','y':'B','sit_type':greetAB})\n",
    "\n",
    "print(IllocProp.query(illocPropRec))\n",
    "\n",
    "#print(IllocProp.in_poss(M).query(illocPropRec))\n",
    "\n",
    "\n",
    "\n",
    "\n"
   ]
  },
  {
   "cell_type": "markdown",
   "metadata": {},
   "source": [
    "Another attempt to do something similar.  This follows the spirit of what Jonathan wants if not the letter.  An IllocProp contains a situation and a situation type which involves an illocutionary predicate (\"relation\")."
   ]
  },
  {
   "cell_type": "code",
   "execution_count": 81,
   "metadata": {
    "collapsed": false
   },
   "outputs": [
    {
     "data": {
      "text/plain": [
       "True"
      ]
     },
     "execution_count": 81,
     "metadata": {},
     "output_type": "execute_result"
    }
   ],
   "source": [
    "AusProp = RecType({'sit':Re,\n",
    "                  'sit_type':RecTy})\n",
    "IllocPType = Type('IllocPType')\n",
    "IllocPType.witness_conditions = [lambda x: isinstance(x,PType) and x.comps.pred in illocrels]\n",
    "IllocRecTy = Type('IllocRecTy')\n",
    "IllocRecTy.witness_conditions = [lambda x: isinstance(x,RecType) and IllocPType.query(x.comps.c1) ]\n",
    "IllocProp = RecType({'sit':Re,\n",
    "                    'sit_type':IllocRecTy})\n",
    "\n",
    "sit1 = Rec({'c1':'e'})\n",
    "c1GreetAB = RecType({'c1':greetAB})\n",
    "illoc1 = Rec({'sit':sit1,\n",
    "             'sit_type':c1GreetAB})\n",
    "IllocProp.query(illoc1)"
   ]
  },
  {
   "cell_type": "code",
   "execution_count": 79,
   "metadata": {
    "collapsed": false
   },
   "outputs": [
    {
     "data": {
      "text/plain": [
       "'Ind'"
      ]
     },
     "execution_count": 79,
     "metadata": {},
     "output_type": "execute_result"
    }
   ],
   "source": [
    "T = RecType({'c1':Ind})\n",
    "show(T.comps.c1)"
   ]
  },
  {
   "cell_type": "markdown",
   "metadata": {},
   "source": [
    "It turns out that if you actually type in our original suggestion properly (we had a number of errors which I corrected) and you make the changes to SingletonType in the first cell, then it works.  As below:"
   ]
  },
  {
   "cell_type": "code",
   "execution_count": 2,
   "metadata": {
    "collapsed": false
   },
   "outputs": [
    {
     "name": "stdout",
     "output_type": "stream",
     "text": [
      "Greet(A, B)\n",
      "{c1 : Greet(A, B)}\n",
      "{R = lambda x:Ind . lambda y:Ind . Greet(x, y), x = A, y = B, sit-type = {c1 : Greet(A, B)}}\n",
      "{R : IllocRel, x : Ind, y : Ind, sit-type : (lambda v1:IllocRel . lambda v2:Ind . lambda v3:Ind . RecTy_{c1 : [[v1, @, v2], @, v3]}, [R, x, y])}\n"
     ]
    },
    {
     "data": {
      "text/plain": [
       "True"
      ]
     },
     "execution_count": 2,
     "metadata": {},
     "output_type": "execute_result"
    }
   ],
   "source": [
    "Ind = BType('Ind')\n",
    "Ind.judge('A')\n",
    "Ind.judge('B')\n",
    "greet = Pred('Greet',[Ind,Ind])\n",
    "countergreet = Pred('CounterGreet',[Ind,Ind])\n",
    "\n",
    "#Greet = lambda x, y : PType(greet, [x,y])\n",
    "Greet = Fun('x', Ind, Fun('y', Ind, PType(greet, ['x','y'])))\n",
    "#Greet = RecType({'x':Ind, 'y':Ind, 'e':(Fun('v1', Ind, Fun('v2', Ind, PType(greet, ['v1', 'v2']))), ['x','y'])})\n",
    "\n",
    "print(show(Greet.appc('A').appc('B')))\n",
    "GreetABRecType = RecType({'c1':Greet.app('A').app('B')})\n",
    "print(show(GreetABRecType))\n",
    "\n",
    "IllocRel = Type('IllocRel')\n",
    "IllocRel.judge(Greet)\n",
    "\n",
    "IllocProp = RecType({\"R\": IllocRel,\n",
    "                               \"x\": Ind,\n",
    "                               \"y\": Ind,\n",
    "                               \"sit-type\": (Fun('v1',IllocRel,\n",
    "                                     Fun('v2',Ind, \n",
    "                                         Fun('v3',Ind,\n",
    "                                             SingletonType(RecTy, RecType({'c1': LazyObj([LazyObj(['v1','@','v2'])\n",
    "                                                                     ,'@','v3'])}))))),\n",
    "                                  ['R','x','y']\n",
    "                                 )})\n",
    "#IllocProp = RecType({\"R\": IllocRel,\n",
    "#                    \"x\": Ind,\n",
    "#                    \"y\": Ind,\n",
    "#                    \"illocptype\":(Fun('v1',IllocRel,Fun('v2',Ind,Fun('v3',Ind, SingletonType(Ty,LazyObj([LazyObj(['v1','@','v2'])\n",
    "#                                                                     ,'@','v3'])) ))),[\"R\",\"x\",\"y\"])\n",
    "#                    \"sit-type\": SingeltonType(RecTy,RecType({'c1'}))\n",
    "#                                 )})\n",
    "\n",
    "illocPropRec = Rec({\"R\": Greet, \"x\":\"A\", \"y\":\"B\", \"sit-type\": GreetABRecType})\n",
    "\n",
    "#show(IllocProp.query(illocPropRec))\n",
    "print(show(illocPropRec))\n",
    "print(show(IllocProp))\n",
    "IllocProp.query(illocPropRec)\n",
    "#M = Possibility('M')\n",
    "#show(Greet.appc_m('A',M).appc_m('B',M))\n",
    "#show(IllocProp.in_poss(M).query(illocPropRec))"
   ]
  },
  {
   "cell_type": "code",
   "execution_count": null,
   "metadata": {
    "collapsed": true
   },
   "outputs": [],
   "source": [
    "\n",
    "\n",
    "IllocProp = lambda r: RecType({\"R\": IllocRel,\n",
    "                     \"x\": Ind,\n",
    "                     \"y\": Ind,\n",
    "                     \"sit-type\": (Fun('v1',Ind,\n",
    "                                     Fun('v2',Ind, \n",
    "                                         PType(r, ['v1','v2']))))\n",
    "                    })\n",
    "\n"
   ]
  },
  {
   "cell_type": "code",
   "execution_count": 327,
   "metadata": {
    "collapsed": false
   },
   "outputs": [
    {
     "data": {
      "text/plain": [
       "'{c1 : Greet(A, B)}'"
      ]
     },
     "execution_count": 327,
     "metadata": {},
     "output_type": "execute_result"
    }
   ],
   "source": [
    "show(Fun('v1',Ind,\n",
    "    Fun('v2',Ind, \n",
    "        Fun('v3',IllocRel,\n",
    "            RecType({'c1': LazyObj([LazyObj(['v3','@','v1'])\n",
    "                                    ,'@','v2'])})))).app(\"A\").app(\"B\").app(Greet))"
   ]
  },
  {
   "cell_type": "code",
   "execution_count": 328,
   "metadata": {
    "collapsed": false
   },
   "outputs": [
    {
     "data": {
      "text/plain": [
       "'True'"
      ]
     },
     "execution_count": 328,
     "metadata": {},
     "output_type": "execute_result"
    }
   ],
   "source": [
    "IllocProp = RecType({\"R\": IllocRel,\n",
    "                     \"x\": Ind,\n",
    "                     \"y\": Ind,})\n",
    "illocPropRec = Rec({\"R\": Greet, \"x\":\"A\", \"y\":\"B\"})\n",
    "show(IllocProp.query(illocPropRec))"
   ]
  },
  {
   "cell_type": "code",
   "execution_count": 307,
   "metadata": {
    "collapsed": true
   },
   "outputs": [],
   "source": [
    "PreCond = RecType({'spkr':Ind,\n",
    "                   'addr':Ind,\n",
    "                   'moves': SingletonType(ListType(IllocProp), [])})"
   ]
  },
  {
   "cell_type": "code",
   "execution_count": 309,
   "metadata": {
    "collapsed": false
   },
   "outputs": [
    {
     "data": {
      "text/plain": [
       "'lambda r:{spkr : Ind, addr : Ind, moves : [{R : IllocRel}]_[]} . {moves : [{R : IllocRel}]_[Greet([r, ., spkr], [r, ., addr])]}'"
      ]
     },
     "execution_count": 309,
     "metadata": {},
     "output_type": "execute_result"
    }
   ],
   "source": [
    "greeting = Fun('r', \n",
    "               PreCond, \n",
    "               RecType({'moves': SingletonType(ListType(IllocProp),\n",
    "                                               [Greet.app(LazyObj(['r','.','spkr'])).app(LazyObj(['r','.','addr']))])}))\n",
    "show(greeting)"
   ]
  },
  {
   "cell_type": "code",
   "execution_count": 281,
   "metadata": {
    "collapsed": false
   },
   "outputs": [
    {
     "data": {
      "text/plain": [
       "'lambda r:{spkr : Ind, addr : Ind, moves : [T8]_[]} . {moves : [T8]_[Greet([r, ., spkr], [r, ., addr])]}'"
      ]
     },
     "execution_count": 281,
     "metadata": {},
     "output_type": "execute_result"
    }
   ],
   "source": [
    "greeting = Fun('r', \n",
    "               PreCond, \n",
    "               RecType({'moves': SingletonType(ListType(IllocProp),\n",
    "                                               ListType(PType(greet,[LazyObj(['r','.','spkr']),\n",
    "                                                                     LazyObj(['r','.','addr'])])))}))\n",
    "show(greeting)"
   ]
  },
  {
   "cell_type": "code",
   "execution_count": 282,
   "metadata": {
    "collapsed": true
   },
   "outputs": [],
   "source": [
    "no_turn_change = Fun('r', \n",
    "                    RecType({'spkr': Ind, 'addr': Ind}),\n",
    "                    RecType({'spkr': SingletonType(Ind, LazyObj(['r','.','spkr'])),\n",
    "                             'addr': SingletonType(Ind, LazyObj(['r','.','addr']))}))\n",
    "turn_change =    Fun('r', \n",
    "                    RecType({'spkr': Ind, 'addr': Ind}),\n",
    "                    RecType({'spkr': SingletonType(Ind, LazyObj(['r','.','addr'])),\n",
    "                             'addr': SingletonType(Ind, LazyObj(['r','.','spkr']))}))"
   ]
  },
  {
   "cell_type": "code",
   "execution_count": 284,
   "metadata": {
    "collapsed": false
   },
   "outputs": [
    {
     "name": "stdout",
     "output_type": "stream",
     "text": [
      "initial IS     : {spkr = A, addr = B, moves = []}\n",
      "DGB type for it: {spkr : Ind_A, addr : Ind_B, moves : [T8]_[]}\n"
     ]
    }
   ],
   "source": [
    "Ind.judge('A')\n",
    "Ind.judge('B')\n",
    "\n",
    "#IS = Rec({'spkr':'A', 'addr':'B', 'moves':[]})\n",
    "DGBType = RecType({'spkr':SingletonType(Ind, 'A'), \n",
    "                    'addr':SingletonType(Ind, 'B'), \n",
    "                    'moves': SingletonType(ListType(IllocProp), [])})\n",
    "IS = DGBType.create()\n",
    "print(\"initial IS     :\", show(IS))\n",
    "print(\"DGB type for it:\", show(DGBType))"
   ]
  },
  {
   "cell_type": "code",
   "execution_count": 277,
   "metadata": {
    "collapsed": false
   },
   "outputs": [
    {
     "name": "stdout",
     "output_type": "stream",
     "text": [
      "{spkr : Ind_A, addr : Ind_B, moves : [T8]_[]} {spkr = A, addr = B, moves = []}\n",
      "{spkr : Ind_B, addr : Ind_A, moves : [T8]_[]} {spkr = B, addr = A, moves = []}\n",
      "{moves : [T8]_[Greet(B, A)], spkr : Ind_B, addr : Ind_A} {moves = [Greet(B, A)], spkr = B, addr = A}\n"
     ]
    }
   ],
   "source": [
    "print(show(DGBType), show(IS))\n",
    "DGBType = DGBType.amerge(turn_change.appc(IS))\n",
    "IS = DGBType.create()\n",
    "print(show(DGBType), show(IS))\n",
    "DGBType = DGBType.amerge(greeting.appc(IS))\n",
    "IS = DGBType.create()\n",
    "print(show(DGBType), show(IS))"
   ]
  },
  {
   "cell_type": "code",
   "execution_count": 224,
   "metadata": {
    "collapsed": false
   },
   "outputs": [
    {
     "data": {
      "text/plain": [
       "'{spkr = _a46, addr = _a47, moves = [Greet(A, B)]}'"
      ]
     },
     "execution_count": 224,
     "metadata": {},
     "output_type": "execute_result"
    }
   ],
   "source": []
  },
  {
   "cell_type": "code",
   "execution_count": null,
   "metadata": {
    "collapsed": true
   },
   "outputs": [],
   "source": []
  }
 ],
 "metadata": {
  "kernelspec": {
   "display_name": "Python 3",
   "language": "python",
   "name": "python3"
  },
  "language_info": {
   "codemirror_mode": {
    "name": "ipython",
    "version": 3
   },
   "file_extension": ".py",
   "mimetype": "text/x-python",
   "name": "python",
   "nbconvert_exporter": "python",
   "pygments_lexer": "ipython3",
   "version": "3.4.3"
  }
 },
 "nbformat": 4,
 "nbformat_minor": 2
}
