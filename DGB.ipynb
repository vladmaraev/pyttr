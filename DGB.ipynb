{
 "cells": [
  {
   "cell_type": "code",
   "execution_count": 87,
   "metadata": {},
   "outputs": [],
   "source": [
    "from ttrtypes import Type,BType,PType,Pred,Possibility,RecType,Fun,ListType,\\\n",
    "                     TTRStringType,KPlusStringType,LazyObj,ti_apply,SingletonType,FunType\n",
    "from records import Rec\n",
    "from utils import show"
   ]
  },
  {
   "cell_type": "code",
   "execution_count": 88,
   "metadata": {},
   "outputs": [],
   "source": [
    "\"\"\"very basic DGBType and two information states\n",
    "\"\"\"\n",
    "IllocProp = Type()\n",
    "IllocProp.judge('e-greet') # greeting event\n",
    "IllocProp.judge('e-ack')\n",
    "\n",
    "Other = BType('Other')\n",
    "Other.judge('other')\n",
    "greet = Pred('greet', [])\n",
    "Greet = PType(greet,[])\n",
    "Greet.judge('e-greet')\n",
    "ack = Pred('ack', [])\n",
    "Ack = PType(ack,[])\n",
    "Ack.judge('e-ack')\n",
    "cgreet = Pred('cgreet', [])\n",
    "CGreet = PType(cgreet,[])\n",
    "IllocProp.judge('e-cgreet')\n",
    "CGreet.judge('e-cgreet')\n",
    "\n",
    "\n",
    "DGBType = RecType({\"LM-content\":IllocProp, \"Other\":Other})"
   ]
  },
  {
   "cell_type": "code",
   "execution_count": 89,
   "metadata": {},
   "outputs": [
    {
     "name": "stdout",
     "output_type": "stream",
     "text": [
      "{LM-content : greet()_e-greet, Other : Other_other}\n",
      "Is it still a DGBType? -- True\n"
     ]
    }
   ],
   "source": [
    "\"\"\"Modelling IS as fully specified RecType\n",
    "\"\"\"\n",
    "IS_curr = RecType({\"LM-content\": SingletonType(Greet, \"e-greet\"), \n",
    "                   \"Other\": SingletonType(Other, \"other\")})\n",
    "print(show(is1_fs))\n",
    "print(\"Is it still a DGBType? --\", is1_fs.subtype_of(DGBType))"
   ]
  },
  {
   "cell_type": "code",
   "execution_count": 90,
   "metadata": {},
   "outputs": [
    {
     "data": {
      "text/plain": [
       "'({LM-content : greet()}->{LM-content : cgreet()_e-cgreet})'"
      ]
     },
     "execution_count": 90,
     "metadata": {},
     "output_type": "execute_result"
    }
   ],
   "source": [
    "\"\"\"CounterGreeting rule\n",
    "\"\"\"\n",
    "CountergreetRule = FunType(RecType({\"LM-content\":Greet}), \n",
    "                           RecType({\"LM-content\":SingletonType(CGreet, \"e-cgreet\")}))\n",
    "show(countergreet_rule)"
   ]
  },
  {
   "cell_type": "code",
   "execution_count": 91,
   "metadata": {},
   "outputs": [
    {
     "data": {
      "text/plain": [
       "'{LM-content : cgreet()_e-cgreet, Other : Other_other}'"
      ]
     },
     "execution_count": 91,
     "metadata": {},
     "output_type": "execute_result"
    }
   ],
   "source": [
    "\"\"\"ISU \n",
    "\"\"\"\n",
    "IS_next = IS_curr.amerge(ti_apply(CountergreetRule, IS_curr))\n",
    "show(IS_next)"
   ]
  },
  {
   "cell_type": "code",
   "execution_count": 86,
   "metadata": {},
   "outputs": [
    {
     "data": {
      "text/plain": [
       "'None'"
      ]
     },
     "execution_count": 86,
     "metadata": {},
     "output_type": "execute_result"
    }
   ],
   "source": [
    "\"\"\"Trying to update IS not in CountergreetRule domain\n",
    "\"\"\"\n",
    "IS_curr_ = RecType({\"LM-content\": SingletonType(Ack, \"e-ack\"), \n",
    "                    \"Other\": SingletonType(Other, \"other\")})\n",
    "show(ti_apply(CountergreetRule, IS_curr_))"
   ]
  }
 ],
 "metadata": {
  "kernelspec": {
   "display_name": "Python 3",
   "language": "python",
   "name": "python3"
  },
  "language_info": {
   "codemirror_mode": {
    "name": "ipython",
    "version": 3
   },
   "file_extension": ".py",
   "mimetype": "text/x-python",
   "name": "python",
   "nbconvert_exporter": "python",
   "pygments_lexer": "ipython3",
   "version": "3.6.2"
  }
 },
 "nbformat": 4,
 "nbformat_minor": 2
}
